{
 "cells": [
  {
   "cell_type": "code",
   "execution_count": 4,
   "id": "ee3da3d5-5a01-4cde-818d-e316777f60b4",
   "metadata": {},
   "outputs": [
    {
     "name": "stdout",
     "output_type": "stream",
     "text": [
      "Requirement already satisfied: crepe in /Users/dsprotasov/MusicNIR/venv/lib/python3.8/site-packages (0.0.14)\n",
      "Requirement already satisfied: numpy>=1.14.0 in /Users/dsprotasov/MusicNIR/venv/lib/python3.8/site-packages (from crepe) (1.24.4)\n",
      "Requirement already satisfied: scipy>=1.0.0 in /Users/dsprotasov/MusicNIR/venv/lib/python3.8/site-packages (from crepe) (1.10.1)\n",
      "Requirement already satisfied: matplotlib>=2.1.0 in /Users/dsprotasov/MusicNIR/venv/lib/python3.8/site-packages (from crepe) (3.7.4)\n",
      "Requirement already satisfied: resampy<0.3.0,>=0.2.0 in /Users/dsprotasov/MusicNIR/venv/lib/python3.8/site-packages (from crepe) (0.2.2)\n",
      "Requirement already satisfied: h5py in /Users/dsprotasov/MusicNIR/venv/lib/python3.8/site-packages (from crepe) (3.10.0)\n",
      "Requirement already satisfied: hmmlearn>=0.3.0 in /Users/dsprotasov/MusicNIR/venv/lib/python3.8/site-packages (from crepe) (0.3.0)\n",
      "Requirement already satisfied: imageio>=2.3.0 in /Users/dsprotasov/MusicNIR/venv/lib/python3.8/site-packages (from crepe) (2.33.1)\n",
      "Requirement already satisfied: scikit-learn>=0.16 in /Users/dsprotasov/MusicNIR/venv/lib/python3.8/site-packages (from crepe) (1.3.2)\n",
      "Requirement already satisfied: pillow>=8.3.2 in /Users/dsprotasov/MusicNIR/venv/lib/python3.8/site-packages (from imageio>=2.3.0->crepe) (10.1.0)\n",
      "Requirement already satisfied: contourpy>=1.0.1 in /Users/dsprotasov/MusicNIR/venv/lib/python3.8/site-packages (from matplotlib>=2.1.0->crepe) (1.1.1)\n",
      "Requirement already satisfied: cycler>=0.10 in /Users/dsprotasov/MusicNIR/venv/lib/python3.8/site-packages (from matplotlib>=2.1.0->crepe) (0.12.1)\n",
      "Requirement already satisfied: fonttools>=4.22.0 in /Users/dsprotasov/MusicNIR/venv/lib/python3.8/site-packages (from matplotlib>=2.1.0->crepe) (4.46.0)\n",
      "Requirement already satisfied: kiwisolver>=1.0.1 in /Users/dsprotasov/MusicNIR/venv/lib/python3.8/site-packages (from matplotlib>=2.1.0->crepe) (1.4.5)\n",
      "Requirement already satisfied: packaging>=20.0 in /Users/dsprotasov/MusicNIR/venv/lib/python3.8/site-packages (from matplotlib>=2.1.0->crepe) (23.2)\n",
      "Requirement already satisfied: pyparsing>=2.3.1 in /Users/dsprotasov/MusicNIR/venv/lib/python3.8/site-packages (from matplotlib>=2.1.0->crepe) (3.1.1)\n",
      "Requirement already satisfied: python-dateutil>=2.7 in /Users/dsprotasov/MusicNIR/venv/lib/python3.8/site-packages (from matplotlib>=2.1.0->crepe) (2.8.2)\n",
      "Requirement already satisfied: importlib-resources>=3.2.0 in /Users/dsprotasov/MusicNIR/venv/lib/python3.8/site-packages (from matplotlib>=2.1.0->crepe) (6.1.1)\n",
      "Requirement already satisfied: numba>=0.32 in /Users/dsprotasov/MusicNIR/venv/lib/python3.8/site-packages (from resampy<0.3.0,>=0.2.0->crepe) (0.58.1)\n",
      "Requirement already satisfied: six>=1.3 in /Users/dsprotasov/MusicNIR/venv/lib/python3.8/site-packages (from resampy<0.3.0,>=0.2.0->crepe) (1.16.0)\n",
      "Requirement already satisfied: joblib>=1.1.1 in /Users/dsprotasov/MusicNIR/venv/lib/python3.8/site-packages (from scikit-learn>=0.16->crepe) (1.3.2)\n",
      "Requirement already satisfied: threadpoolctl>=2.0.0 in /Users/dsprotasov/MusicNIR/venv/lib/python3.8/site-packages (from scikit-learn>=0.16->crepe) (3.2.0)\n",
      "Requirement already satisfied: zipp>=3.1.0 in /Users/dsprotasov/MusicNIR/venv/lib/python3.8/site-packages (from importlib-resources>=3.2.0->matplotlib>=2.1.0->crepe) (3.17.0)\n",
      "Requirement already satisfied: llvmlite<0.42,>=0.41.0dev0 in /Users/dsprotasov/MusicNIR/venv/lib/python3.8/site-packages (from numba>=0.32->resampy<0.3.0,>=0.2.0->crepe) (0.41.1)\n",
      "Requirement already satisfied: importlib-metadata in /Users/dsprotasov/MusicNIR/venv/lib/python3.8/site-packages (from numba>=0.32->resampy<0.3.0,>=0.2.0->crepe) (7.0.0)\n",
      "Collecting librosa\n",
      "  Downloading librosa-0.10.1-py3-none-any.whl.metadata (8.3 kB)\n",
      "Collecting audioread>=2.1.9 (from librosa)\n",
      "  Downloading audioread-3.0.1-py3-none-any.whl.metadata (8.4 kB)\n",
      "Requirement already satisfied: numpy!=1.22.0,!=1.22.1,!=1.22.2,>=1.20.3 in /Users/dsprotasov/MusicNIR/venv/lib/python3.8/site-packages (from librosa) (1.24.4)\n",
      "Requirement already satisfied: scipy>=1.2.0 in /Users/dsprotasov/MusicNIR/venv/lib/python3.8/site-packages (from librosa) (1.10.1)\n",
      "Requirement already satisfied: scikit-learn>=0.20.0 in /Users/dsprotasov/MusicNIR/venv/lib/python3.8/site-packages (from librosa) (1.3.2)\n",
      "Requirement already satisfied: joblib>=0.14 in /Users/dsprotasov/MusicNIR/venv/lib/python3.8/site-packages (from librosa) (1.3.2)\n",
      "Requirement already satisfied: decorator>=4.3.0 in /Users/dsprotasov/MusicNIR/venv/lib/python3.8/site-packages (from librosa) (5.1.1)\n",
      "Requirement already satisfied: numba>=0.51.0 in /Users/dsprotasov/MusicNIR/venv/lib/python3.8/site-packages (from librosa) (0.58.1)\n",
      "Collecting soundfile>=0.12.1 (from librosa)\n",
      "  Downloading soundfile-0.12.1-py2.py3-none-macosx_11_0_arm64.whl (1.1 MB)\n",
      "\u001b[2K     \u001b[90m━━━━━━━━━━━━━━━━━━━━━━━━━━━━━━━━━━━━━━━━\u001b[0m \u001b[32m1.1/1.1 MB\u001b[0m \u001b[31m3.6 MB/s\u001b[0m eta \u001b[36m0:00:00\u001b[0m00:01\u001b[0m00:01\u001b[0m\n",
      "\u001b[?25hCollecting pooch>=1.0 (from librosa)\n",
      "  Downloading pooch-1.8.0-py3-none-any.whl.metadata (9.9 kB)\n",
      "Collecting soxr>=0.3.2 (from librosa)\n",
      "  Downloading soxr-0.3.7-cp38-cp38-macosx_11_0_arm64.whl.metadata (5.5 kB)\n",
      "Requirement already satisfied: typing-extensions>=4.1.1 in /Users/dsprotasov/MusicNIR/venv/lib/python3.8/site-packages (from librosa) (4.9.0)\n",
      "Collecting lazy-loader>=0.1 (from librosa)\n",
      "  Downloading lazy_loader-0.3-py3-none-any.whl.metadata (4.3 kB)\n",
      "Collecting msgpack>=1.0 (from librosa)\n",
      "  Downloading msgpack-1.0.7-cp38-cp38-macosx_11_0_arm64.whl.metadata (9.1 kB)\n",
      "Requirement already satisfied: llvmlite<0.42,>=0.41.0dev0 in /Users/dsprotasov/MusicNIR/venv/lib/python3.8/site-packages (from numba>=0.51.0->librosa) (0.41.1)\n",
      "Requirement already satisfied: importlib-metadata in /Users/dsprotasov/MusicNIR/venv/lib/python3.8/site-packages (from numba>=0.51.0->librosa) (7.0.0)\n",
      "Requirement already satisfied: platformdirs>=2.5.0 in /Users/dsprotasov/MusicNIR/venv/lib/python3.8/site-packages (from pooch>=1.0->librosa) (4.1.0)\n",
      "Requirement already satisfied: packaging>=20.0 in /Users/dsprotasov/MusicNIR/venv/lib/python3.8/site-packages (from pooch>=1.0->librosa) (23.2)\n",
      "Requirement already satisfied: requests>=2.19.0 in /Users/dsprotasov/MusicNIR/venv/lib/python3.8/site-packages (from pooch>=1.0->librosa) (2.31.0)\n",
      "Requirement already satisfied: threadpoolctl>=2.0.0 in /Users/dsprotasov/MusicNIR/venv/lib/python3.8/site-packages (from scikit-learn>=0.20.0->librosa) (3.2.0)\n",
      "Requirement already satisfied: cffi>=1.0 in /Users/dsprotasov/MusicNIR/venv/lib/python3.8/site-packages (from soundfile>=0.12.1->librosa) (1.16.0)\n",
      "Requirement already satisfied: pycparser in /Users/dsprotasov/MusicNIR/venv/lib/python3.8/site-packages (from cffi>=1.0->soundfile>=0.12.1->librosa) (2.21)\n",
      "Requirement already satisfied: charset-normalizer<4,>=2 in /Users/dsprotasov/MusicNIR/venv/lib/python3.8/site-packages (from requests>=2.19.0->pooch>=1.0->librosa) (3.3.2)\n",
      "Requirement already satisfied: idna<4,>=2.5 in /Users/dsprotasov/MusicNIR/venv/lib/python3.8/site-packages (from requests>=2.19.0->pooch>=1.0->librosa) (3.6)\n",
      "Requirement already satisfied: urllib3<3,>=1.21.1 in /Users/dsprotasov/MusicNIR/venv/lib/python3.8/site-packages (from requests>=2.19.0->pooch>=1.0->librosa) (2.1.0)\n",
      "Requirement already satisfied: certifi>=2017.4.17 in /Users/dsprotasov/MusicNIR/venv/lib/python3.8/site-packages (from requests>=2.19.0->pooch>=1.0->librosa) (2023.11.17)\n",
      "Requirement already satisfied: zipp>=0.5 in /Users/dsprotasov/MusicNIR/venv/lib/python3.8/site-packages (from importlib-metadata->numba>=0.51.0->librosa) (3.17.0)\n",
      "Downloading librosa-0.10.1-py3-none-any.whl (253 kB)\n",
      "\u001b[2K   \u001b[90m━━━━━━━━━━━━━━━━━━━━━━━━━━━━━━━━━━━━━━━━\u001b[0m \u001b[32m253.7/253.7 kB\u001b[0m \u001b[31m6.3 MB/s\u001b[0m eta \u001b[36m0:00:00\u001b[0ma \u001b[36m0:00:01\u001b[0m\n",
      "\u001b[?25hDownloading audioread-3.0.1-py3-none-any.whl (23 kB)\n",
      "Downloading lazy_loader-0.3-py3-none-any.whl (9.1 kB)\n",
      "Downloading msgpack-1.0.7-cp38-cp38-macosx_11_0_arm64.whl (231 kB)\n",
      "\u001b[2K   \u001b[90m━━━━━━━━━━━━━━━━━━━━━━━━━━━━━━━━━━━━━━━━\u001b[0m \u001b[32m231.2/231.2 kB\u001b[0m \u001b[31m7.0 MB/s\u001b[0m eta \u001b[36m0:00:00\u001b[0m\n",
      "\u001b[?25hDownloading pooch-1.8.0-py3-none-any.whl (62 kB)\n",
      "\u001b[2K   \u001b[90m━━━━━━━━━━━━━━━━━━━━━━━━━━━━━━━━━━━━━━━━\u001b[0m \u001b[32m62.7/62.7 kB\u001b[0m \u001b[31m2.4 MB/s\u001b[0m eta \u001b[36m0:00:00\u001b[0m\n",
      "\u001b[?25hDownloading soxr-0.3.7-cp38-cp38-macosx_11_0_arm64.whl (389 kB)\n",
      "\u001b[2K   \u001b[90m━━━━━━━━━━━━━━━━━━━━━━━━━━━━━━━━━━━━━━━━\u001b[0m \u001b[32m389.4/389.4 kB\u001b[0m \u001b[31m7.7 MB/s\u001b[0m eta \u001b[36m0:00:00\u001b[0mta \u001b[36m0:00:01\u001b[0m\n",
      "\u001b[?25hInstalling collected packages: soxr, msgpack, lazy-loader, audioread, soundfile, pooch, librosa\n",
      "Successfully installed audioread-3.0.1 lazy-loader-0.3 librosa-0.10.1 msgpack-1.0.7 pooch-1.8.0 soundfile-0.12.1 soxr-0.3.7\n"
     ]
    }
   ],
   "source": [
    "!pip install crepe\n",
    "!pip install librosa"
   ]
  },
  {
   "cell_type": "code",
   "execution_count": 5,
   "id": "a959e94b-39f5-4fac-b2e0-b2299079b21e",
   "metadata": {},
   "outputs": [],
   "source": [
    "import crepe\n",
    "import librosa\n",
    "from scipy.io import wavfile\n"
   ]
  },
  {
   "cell_type": "code",
   "execution_count": null,
   "id": "490917ab-edf5-4950-8e44-fd4bcb2b8b86",
   "metadata": {},
   "outputs": [],
   "source": []
  }
 ],
 "metadata": {
  "kernelspec": {
   "display_name": "Python 3 (ipykernel)",
   "language": "python",
   "name": "python3"
  },
  "language_info": {
   "codemirror_mode": {
    "name": "ipython",
    "version": 3
   },
   "file_extension": ".py",
   "mimetype": "text/x-python",
   "name": "python",
   "nbconvert_exporter": "python",
   "pygments_lexer": "ipython3",
   "version": "3.8.9"
  }
 },
 "nbformat": 4,
 "nbformat_minor": 5
}
